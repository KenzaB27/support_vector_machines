{
 "cells": [
  {
   "cell_type": "code",
   "execution_count": 1,
   "metadata": {},
   "outputs": [],
   "source": [
    "import numpy as np\n",
    "import random, math\n",
    "from scipy.optimize import minimize\n",
    "from scipy.spatial import distance\n",
    "import matplotlib.pyplot as plt"
   ]
  },
  {
   "cell_type": "code",
   "execution_count": 2,
   "metadata": {},
   "outputs": [],
   "source": [
    "def linearKernel(x, y):\n",
    "    return np.dot(x, y)"
   ]
  },
  {
   "cell_type": "code",
   "execution_count": 3,
   "metadata": {},
   "outputs": [
    {
     "name": "stdout",
     "output_type": "stream",
     "text": [
      "19\n"
     ]
    }
   ],
   "source": [
    "x = np.array([1,2,3])\n",
    "y = np.array([1,3,4])\n",
    "print(linearKernel(x, y))"
   ]
  },
  {
   "cell_type": "code",
   "execution_count": 4,
   "metadata": {},
   "outputs": [],
   "source": [
    "def polynomialKernel(x, y, p):\n",
    "    return np.power((1 + np.dot(x, y)), p)"
   ]
  },
  {
   "cell_type": "code",
   "execution_count": 5,
   "metadata": {},
   "outputs": [
    {
     "name": "stdout",
     "output_type": "stream",
     "text": [
      "400\n"
     ]
    }
   ],
   "source": [
    "print(polynomialKernel(x, y, 2))"
   ]
  },
  {
   "cell_type": "code",
   "execution_count": 6,
   "metadata": {},
   "outputs": [],
   "source": [
    "def rbfKernel(x, y, sigma):\n",
    "    return np.exp(-(distance.euclidean(x, y))/(2*np.power(sigma, 2)))"
   ]
  },
  {
   "cell_type": "code",
   "execution_count": 7,
   "metadata": {},
   "outputs": [
    {
     "name": "stdout",
     "output_type": "stream",
     "text": [
      "0.9999292918218224\n"
     ]
    }
   ],
   "source": [
    "print(rbfKernel(x, y, 100))"
   ]
  },
  {
   "cell_type": "code",
   "execution_count": 8,
   "metadata": {},
   "outputs": [],
   "source": [
    "def computeP (t, x):\n",
    "    p = np.zeros((len(t), len(t)))\n",
    "    for i in range(len(t)):\n",
    "        for j in range(len(t)):\n",
    "            p[i][j] = t[i] * t[j] * polynomialKernel(x[i], x[j])\n",
    "    return p"
   ]
  },
  {
   "cell_type": "code",
   "execution_count": 9,
   "metadata": {},
   "outputs": [
    {
     "name": "stdout",
     "output_type": "stream",
     "text": [
      "[[ 1. -2.]\n",
      " [-2.  4.]]\n"
     ]
    }
   ],
   "source": [
    "x = np.array([1,2])\n",
    "y = np.array([1,3])\n",
    "t = np.array([1,-1])\n",
    "p = computeP(t, x)\n",
    "print(p)"
   ]
  },
  {
   "cell_type": "code",
   "execution_count": 10,
   "metadata": {},
   "outputs": [],
   "source": [
    "def objective(alpha):\n",
    "    alpha_matrix = np.zeros((N, N))\n",
    "    for i in range(N):\n",
    "        for j in range(N):\n",
    "            alpha_matrix[i][j] = alpha[i] * alpha[j]\n",
    "    alpha_times_p = np.matmul(alpha_matrix, p_ij)\n",
    "    sum_alpha_times_p = 0 \n",
    "    for i in range(N):\n",
    "        sum_alpha_times_p += np.sum(alpha_times_p[i])\n",
    "    return 0.5 * sum_alpha_times_p - np.sum(alpha)"
   ]
  },
  {
   "cell_type": "code",
   "execution_count": 11,
   "metadata": {},
   "outputs": [],
   "source": [
    "def zerofun(alpha): \n",
    "    return np.dot(alpha, targets)"
   ]
  },
  {
   "cell_type": "code",
   "execution_count": 15,
   "metadata": {},
   "outputs": [],
   "source": [
    "np.random.seed(100)\n",
    "\n",
    "classA = np.concatenate(\n",
    "    (np.random.randn(10, 2) * 0.2 + [1.5, 0.5],\n",
    "    np.random.randn(10, 2) * 0.2 + [-1.5, 0.5]))\n",
    "classB = np.random.randn(20, 2) * 0.2 + [0.0, -0.5]\n",
    "\n",
    "inputs = np.concatenate((classA, classB))\n",
    "targets = np.concatenate(\n",
    "    (np.ones(classA.shape[0]),\n",
    "    - np.ones(classB.shape[0])))\n",
    "\n",
    "N = inputs.shape[0]\n",
    "\n",
    "permute = list(range(N))\n",
    "random.shuffle(permute)\n",
    "inputs = inputs[permute, :]\n",
    "targets = targets[permute]\n",
    "\n",
    "p_ij = computeP(targets, inputs)"
   ]
  },
  {
   "cell_type": "code",
   "execution_count": 19,
   "metadata": {},
   "outputs": [
    {
     "name": "stdout",
     "output_type": "stream",
     "text": [
      "[0.00000000e+00 0.00000000e+00 1.46233396e-01 0.00000000e+00\n",
      " 3.17270166e-15 0.00000000e+00 0.00000000e+00 1.46233396e-01\n",
      " 4.75017799e-15 0.00000000e+00 0.00000000e+00 0.00000000e+00\n",
      " 0.00000000e+00 0.00000000e+00 0.00000000e+00 0.00000000e+00\n",
      " 0.00000000e+00 6.94965638e-15 0.00000000e+00 0.00000000e+00\n",
      " 0.00000000e+00 7.17897126e-15 0.00000000e+00 0.00000000e+00\n",
      " 1.44644330e-15 0.00000000e+00 0.00000000e+00 1.05811669e-14\n",
      " 0.00000000e+00 0.00000000e+00 0.00000000e+00 0.00000000e+00\n",
      " 0.00000000e+00 1.46137812e-15 0.00000000e+00 0.00000000e+00\n",
      " 0.00000000e+00 2.26807779e-15 0.00000000e+00 1.55517105e-14]\n",
      "True\n"
     ]
    }
   ],
   "source": [
    "C = None \n",
    "B = [(0, C) for b in range(N)]\n",
    "ret = minimize(objective, np.zeros(N), bounds = B, constraints = {'type': 'eq', 'fun':zerofun})\n",
    "print(ret['x'])\n",
    "print(ret['success'])"
   ]
  },
  {
   "cell_type": "code",
   "execution_count": null,
   "metadata": {},
   "outputs": [],
   "source": [
    "#extract non-zero alpha values \n",
    "non_zero_alphas = [[]]\n",
    "for i in range(len())"
   ]
  }
 ],
 "metadata": {
  "kernelspec": {
   "display_name": "Python 3",
   "language": "python",
   "name": "python3"
  },
  "language_info": {
   "codemirror_mode": {
    "name": "ipython",
    "version": 3
   },
   "file_extension": ".py",
   "mimetype": "text/x-python",
   "name": "python",
   "nbconvert_exporter": "python",
   "pygments_lexer": "ipython3",
   "version": "3.7.3"
  }
 },
 "nbformat": 4,
 "nbformat_minor": 2
}
