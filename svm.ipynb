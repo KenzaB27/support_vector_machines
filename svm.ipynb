{
 "cells": [
  {
   "cell_type": "code",
   "execution_count": 1,
   "metadata": {},
   "outputs": [],
   "source": [
    "import numpy as np\n",
    "import random, math\n",
    "from scipy.optimize import minimize\n",
    "from scipy.spatial import distance\n",
    "import matplotlib.pyplot as plt"
   ]
  },
  {
   "cell_type": "code",
   "execution_count": 2,
   "metadata": {},
   "outputs": [],
   "source": [
    "def linearKernel(x, y):\n",
    "    return np.dot(x, y)"
   ]
  },
  {
   "cell_type": "code",
   "execution_count": 3,
   "metadata": {
    "tags": []
   },
   "outputs": [
    {
     "output_type": "stream",
     "name": "stdout",
     "text": "19\n"
    }
   ],
   "source": [
    "x = np.array([1,2,3])\n",
    "y = np.array([1,3,4])\n",
    "print(linearKernel(x, y))"
   ]
  },
  {
   "cell_type": "code",
   "execution_count": 4,
   "metadata": {},
   "outputs": [],
   "source": [
    "def polynomialKernel(x, y, p):\n",
    "    return np.power((1 + np.dot(x, y)), p)"
   ]
  },
  {
   "cell_type": "code",
   "execution_count": 5,
   "metadata": {
    "tags": []
   },
   "outputs": [
    {
     "output_type": "stream",
     "name": "stdout",
     "text": "400\n"
    }
   ],
   "source": [
    "print(polynomialKernel(x, y, 2))"
   ]
  },
  {
   "cell_type": "code",
   "execution_count": 6,
   "metadata": {},
   "outputs": [],
   "source": [
    "def rbfKernel(x, y, sigma):\n",
    "    return np.exp(-(distance.euclidean(x, y))/(2*np.power(sigma, 2)))"
   ]
  },
  {
   "cell_type": "code",
   "execution_count": 7,
   "metadata": {
    "tags": []
   },
   "outputs": [
    {
     "output_type": "stream",
     "name": "stdout",
     "text": "0.9999292918218224\n"
    }
   ],
   "source": [
    "print(rbfKernel(x, y, 100))"
   ]
  },
  {
   "cell_type": "code",
   "execution_count": 8,
   "metadata": {},
   "outputs": [],
   "source": [
    "def computeP (t, x):\n",
    "    p = np.zeros((len(t), len(t)))\n",
    "    for i in range(len(t)):\n",
    "        for j in range(len(t)):\n",
    "            p[i][j] = t[i] * t[j] * linearKernel(x[i], x[j])\n",
    "    return p"
   ]
  },
  {
   "cell_type": "code",
   "execution_count": 9,
   "metadata": {
    "tags": []
   },
   "outputs": [
    {
     "output_type": "stream",
     "name": "stdout",
     "text": "[[ 1. -2.]\n [-2.  4.]]\n"
    }
   ],
   "source": [
    "x = np.array([1,2])\n",
    "y = np.array([1,3])\n",
    "t = np.array([1,-1])\n",
    "p = computeP(t, x)\n",
    "print(p)"
   ]
  },
  {
   "cell_type": "code",
   "execution_count": 10,
   "metadata": {},
   "outputs": [],
   "source": [
    "def objective(alpha):\n",
    "    alpha_matrix = np.zeros((N, N))\n",
    "    for i in range(N):\n",
    "        for j in range(N):\n",
    "            alpha_matrix[i][j] = alpha[i] * alpha[j]\n",
    "    alpha_times_p = np.matmul(alpha_matrix, p_ij)\n",
    "    sum_alpha_times_p = 0 \n",
    "    for i in range(N):\n",
    "        sum_alpha_times_p += np.sum(alpha_times_p[i])\n",
    "    return 0.5 * sum_alpha_times_p - np.sum(alpha)"
   ]
  },
  {
   "cell_type": "code",
   "execution_count": 11,
   "metadata": {},
   "outputs": [],
   "source": [
    "def zerofun(alpha): \n",
    "    return np.dot(alpha, targets)"
   ]
  },
  {
   "cell_type": "code",
   "execution_count": 13,
   "metadata": {},
   "outputs": [],
   "source": [
    "np.random.seed(100)\n",
    "\n",
    "classA = np.concatenate(\n",
    "    (np.random.randn(10, 2) * 0.2 + [1.5, 0.5],\n",
    "    np.random.randn(10, 2) * 0.2 + [-1.5, 0.5]))\n",
    "classB = np.random.randn(20, 2) * 0.2 + [0.0, -0.5]\n",
    "\n",
    "inputs = np.concatenate((classA, classB))\n",
    "targets = np.concatenate(\n",
    "    (np.ones(classA.shape[0]),\n",
    "    - np.ones(classB.shape[0])))\n",
    "\n",
    "N = inputs.shape[0]\n",
    "\n",
    "permute = list(range(N))\n",
    "random.shuffle(permute)\n",
    "inputs = inputs[permute, :]\n",
    "targets = targets[permute]\n",
    "\n",
    "p_ij = computeP(targets, inputs)"
   ]
  },
  {
   "cell_type": "code",
   "execution_count": 15,
   "metadata": {
    "tags": []
   },
   "outputs": [
    {
     "output_type": "stream",
     "name": "stdout",
     "text": "[1.33857265e-14 1.19460088e-14 1.00118758e-14 7.17187160e-16\n 1.46233396e-01 0.00000000e+00 1.18321645e-14 2.16871753e-14\n 9.58602917e-15 1.03614435e-14 6.99912726e-15 2.86397486e-15\n 2.09338522e-14 1.41791189e-14 3.35097916e-14 0.00000000e+00\n 1.60170170e-14 8.88110309e-15 0.00000000e+00 7.24821221e-15\n 8.80728589e-15 1.74460109e-14 0.00000000e+00 1.85788447e-15\n 6.96924464e-15 1.49202441e-14 1.16605076e-14 0.00000000e+00\n 0.00000000e+00 0.00000000e+00 1.40011706e-14 1.11147603e-14\n 8.41326148e-15 8.71640126e-15 1.20346002e-16 8.15119105e-15\n 1.46233396e-01 1.22205166e-14 4.05755389e-14 0.00000000e+00]\n"
    }
   ],
   "source": [
    "C = None \n",
    "B = [(0, C) for b in range(N)]\n",
    "ret = minimize(objective, np.zeros(N), bounds = B, constraints = {'type': 'eq', 'fun':zerofun})\n",
    "print(ret['x'])"
   ]
  },
  {
   "cell_type": "code",
   "execution_count": null,
   "metadata": {},
   "outputs": [],
   "source": [
    "ret = minimize(objective1,np.zeros(40),bounds=B,constraints={'type':'eq','fun':z_const})"
   ]
  }
 ],
 "metadata": {
  "kernelspec": {
   "display_name": "Python 3.7.6 64-bit ('tensorflow': conda)",
   "language": "python",
   "name": "python37664bittensorflowconda789fb1f6bc5e4117bd77a83dcb86735d"
  },
  "language_info": {
   "codemirror_mode": {
    "name": "ipython",
    "version": 3
   },
   "file_extension": ".py",
   "mimetype": "text/x-python",
   "name": "python",
   "nbconvert_exporter": "python",
   "pygments_lexer": "ipython3",
   "version": "3.7.6-final"
  }
 },
 "nbformat": 4,
 "nbformat_minor": 2
}