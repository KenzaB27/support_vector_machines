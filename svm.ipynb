{
 "cells": [
  {
   "cell_type": "code",
   "execution_count": 1,
   "metadata": {},
   "outputs": [],
   "source": [
    "import numpy as np\n",
    "import random, math\n",
    "from scipy.optimize import minimize\n",
    "from scipy.spatial import distance\n",
    "import matplotlib.pyplot as plt"
   ]
  },
  {
   "cell_type": "code",
   "execution_count": 2,
   "metadata": {},
   "outputs": [],
   "source": [
    "def linearKernel(x, y):\n",
    "    return np.dot(x, y)"
   ]
  },
  {
   "cell_type": "code",
   "execution_count": 3,
   "metadata": {},
   "outputs": [
    {
     "name": "stdout",
     "output_type": "stream",
     "text": [
      "19\n"
     ]
    }
   ],
   "source": [
    "x = np.array([1,2,3])\n",
    "y = np.array([1,3,4])\n",
    "print(linearKernel(x, y))"
   ]
  },
  {
   "cell_type": "code",
   "execution_count": 4,
   "metadata": {},
   "outputs": [],
   "source": [
    "def polynomialKernel(x, y, p):\n",
    "    return np.power((1 + np.dot(x, y)), p)"
   ]
  },
  {
   "cell_type": "code",
   "execution_count": 5,
   "metadata": {},
   "outputs": [
    {
     "name": "stdout",
     "output_type": "stream",
     "text": [
      "400\n"
     ]
    }
   ],
   "source": [
    "print(polynomialKernel(x, y, 2))"
   ]
  },
  {
   "cell_type": "code",
   "execution_count": 6,
   "metadata": {},
   "outputs": [],
   "source": [
    "def rbfKernel(x, y, sigma):\n",
    "    return np.exp(-(distance.euclidean(x, y))/(2*np.power(sigma, 2)))"
   ]
  },
  {
   "cell_type": "code",
   "execution_count": 7,
   "metadata": {},
   "outputs": [
    {
     "name": "stdout",
     "output_type": "stream",
     "text": [
      "0.9999292918218224\n"
     ]
    }
   ],
   "source": [
    "print(rbfKernel(x, y, 100))"
   ]
  },
  {
   "cell_type": "code",
   "execution_count": 22,
   "metadata": {},
   "outputs": [],
   "source": [
    "def computeP (t, x):\n",
    "    p = np.zeros((len(t), len(t)))\n",
    "    for i in range(len(t)):\n",
    "        for j in range(len(t)):\n",
    "            p[i][j] = t[i] * t[j] * linearKernel(x[i], x[j])\n",
    "    return p"
   ]
  },
  {
   "cell_type": "code",
   "execution_count": 9,
   "metadata": {},
   "outputs": [
    {
     "name": "stdout",
     "output_type": "stream",
     "text": [
      "[[ 1. -2.]\n",
      " [-2.  4.]]\n"
     ]
    }
   ],
   "source": [
    "x = np.array([1,2])\n",
    "y = np.array([1,3])\n",
    "t = np.array([1,-1])\n",
    "p = computeP(t, x)\n",
    "print(p)"
   ]
  },
  {
   "cell_type": "code",
   "execution_count": 10,
   "metadata": {},
   "outputs": [],
   "source": [
    "def objective(alpha):\n",
    "    alpha_matrix = np.zeros((N, N))\n",
    "    for i in range(N):\n",
    "        for j in range(N):\n",
    "            alpha_matrix[i][j] = alpha[i] * alpha[j]\n",
    "    alpha_times_p = np.matmul(alpha_matrix, p_ij)\n",
    "    sum_alpha_times_p = 0 \n",
    "    for i in range(N):\n",
    "        sum_alpha_times_p += np.sum(alpha_times_p[i])\n",
    "    return 0.5 * sum_alpha_times_p - np.sum(alpha)"
   ]
  },
  {
   "cell_type": "code",
   "execution_count": 11,
   "metadata": {},
   "outputs": [],
   "source": [
    "def zerofun(alpha): \n",
    "    return np.dot(alpha, targets)"
   ]
  },
  {
   "cell_type": "code",
   "execution_count": 15,
   "metadata": {},
   "outputs": [],
   "source": [
    "np.random.seed(100)\n",
    "\n",
    "classA = np.concatenate(\n",
    "    (np.random.randn(10, 2) * 0.2 + [1.5, 0.5],\n",
    "    np.random.randn(10, 2) * 0.2 + [-1.5, 0.5]))\n",
    "classB = np.random.randn(20, 2) * 0.2 + [0.0, -0.5]\n",
    "\n",
    "inputs = np.concatenate((classA, classB))\n",
    "targets = np.concatenate(\n",
    "    (np.ones(classA.shape[0]),\n",
    "    - np.ones(classB.shape[0])))\n",
    "\n",
    "N = inputs.shape[0]\n",
    "\n",
    "permute = list(range(N))\n",
    "random.shuffle(permute)\n",
    "inputs = inputs[permute, :]\n",
    "targets = targets[permute]\n",
    "\n",
    "p_ij = computeP(targets, inputs)"
   ]
  },
  {
   "cell_type": "code",
   "execution_count": 23,
   "metadata": {},
   "outputs": [
    {
     "name": "stdout",
     "output_type": "stream",
     "text": [
      "[0.00000000e+00 0.00000000e+00 1.46233396e-01 0.00000000e+00\n",
      " 3.17270166e-15 0.00000000e+00 0.00000000e+00 1.46233396e-01\n",
      " 4.75017799e-15 0.00000000e+00 0.00000000e+00 0.00000000e+00\n",
      " 0.00000000e+00 0.00000000e+00 0.00000000e+00 0.00000000e+00\n",
      " 0.00000000e+00 6.94965638e-15 0.00000000e+00 0.00000000e+00\n",
      " 0.00000000e+00 7.17897126e-15 0.00000000e+00 0.00000000e+00\n",
      " 1.44644330e-15 0.00000000e+00 0.00000000e+00 1.05811669e-14\n",
      " 0.00000000e+00 0.00000000e+00 0.00000000e+00 0.00000000e+00\n",
      " 0.00000000e+00 1.46137812e-15 0.00000000e+00 0.00000000e+00\n",
      " 0.00000000e+00 2.26807779e-15 0.00000000e+00 1.55517105e-14]\n",
      "True\n"
     ]
    }
   ],
   "source": [
    "C = None \n",
    "B = [(0, C) for b in range(N)]\n",
    "ret = minimize(objective, np.zeros(N), bounds = B, constraints = {'type': 'eq', 'fun':zerofun})\n",
    "print(ret['x'])\n",
    "print(ret['success'])"
   ]
  },
  {
   "cell_type": "code",
   "execution_count": 32,
   "metadata": {},
   "outputs": [
    {
     "name": "stdout",
     "output_type": "stream",
     "text": [
      "[{'alpha': 0.14623339641752306, 'index': 2, 'target': -1.0, 'input': array([-0.3227157 , -0.20585723])}, {'alpha': 0.14623339641751756, 'index': 7, 'target': 1.0, 'input': array([-1.26207555,  0.16187663])}]\n",
      "2\n"
     ]
    }
   ],
   "source": [
    "#extract non-zero alpha values\n",
    "alpha = ret['x']\n",
    "sv = []\n",
    "for i in range(N):\n",
    "    if alpha[i] > 10**-5:\n",
    "        sv.append({'alpha': alpha[i], 'index':i, 'target': targets[i], 'input': inputs[i]})\n",
    "        \n",
    "print(sv)\n",
    "print(len(sv))"
   ]
  },
  {
   "cell_type": "code",
   "execution_count": 30,
   "metadata": {},
   "outputs": [],
   "source": [
    "#calculate the b value equation 7 \n",
    "def computeB(s):\n",
    "    b = 0 \n",
    "    for i in range(2):\n",
    "        b += alpha[i] * targets[i] * linearKernel(s['input'], inputs[i])\n",
    "    return b - s['target']"
   ]
  },
  {
   "cell_type": "code",
   "execution_count": 35,
   "metadata": {},
   "outputs": [],
   "source": [
    "def computeB2(s):\n",
    "    b = 0\n",
    "    for i in range(len(sv)):\n",
    "        if s['index'] != sv[i]['index']:\n",
    "            b += sv[i][\"alpha\"] * sv[i][\"target\"] * linearKernel(s[\"input\"], sv[i]['input'])\n",
    "    return b - s['target']"
   ]
  },
  {
   "cell_type": "code",
   "execution_count": 31,
   "metadata": {},
   "outputs": [
    {
     "name": "stdout",
     "output_type": "stream",
     "text": [
      "b_sv0 1.033260127652772 b_sv1 -0.817929095825893\n"
     ]
    }
   ],
   "source": [
    "#without C \n",
    "b_sv0 = computeB(sv[0])\n",
    "b_sv1 = computeB(sv[1])\n",
    "print('b_sv0', b_sv0, 'b_sv1', b_sv1)"
   ]
  },
  {
   "cell_type": "code",
   "execution_count": 36,
   "metadata": {},
   "outputs": [
    {
     "name": "stdout",
     "output_type": "stream",
     "text": [
      "b2_sv0 1.0546866281978915 b2_sv1 -1.0546866281978935\n"
     ]
    }
   ],
   "source": [
    "b2_sv0 = computeB2(sv[0])\n",
    "b2_sv1 = computeB2(sv[1])\n",
    "print('b2_sv0', b2_sv0, 'b2_sv1', b2_sv1)"
   ]
  },
  {
   "cell_type": "code",
   "execution_count": 56,
   "metadata": {},
   "outputs": [],
   "source": [
    "#indicator function \n",
    "def indicator (s):\n",
    "    ind = 0\n",
    "    for i in range(len(sv)):\n",
    "        ind += sv[i][\"alpha\"] * sv[i][\"target\"] * linearKernel(s, sv[i]['input'])\n",
    "    return ind - b2_sv0"
   ]
  },
  {
   "cell_type": "code",
   "execution_count": 44,
   "metadata": {},
   "outputs": [
    {
     "data": {
      "image/png": "[encoded data removed]",
      "text/plain": [
       "<Figure size 432x288 with 1 Axes>"
      ]
     },
     "metadata": {
      "needs_background": "light"
     },
     "output_type": "display_data"
    }
   ],
   "source": [
    "plt.plot([p[0] for p in classA], [p[1] for p in classA], \"b.\")\n",
    "plt.plot([p[0] for p in classB], [p[1] for p in classB], \"r.\")\n",
    "plt.axis('equal')\n",
    "plt.savefig('svmplot.pdf')\n",
    "plt.show()"
   ]
  },
  {
   "cell_type": "code",
   "execution_count": 65,
   "metadata": {},
   "outputs": [
    {
     "name": "stdout",
     "output_type": "stream",
     "text": [
      "50\n",
      "50\n",
      "[[-0.58295761 -0.61099144 -0.63902528 ... -1.90054775 -1.92858159\n",
      "  -1.95661542]\n",
      " [-0.57417802 -0.60221186 -0.63024569 ... -1.89176817 -1.919802\n",
      "  -1.94783583]\n",
      " [-0.56539844 -0.59343227 -0.6214661  ... -1.88298858 -1.91102241\n",
      "  -1.93905624]\n",
      " ...\n",
      " [-0.17031701 -0.19835085 -0.22638468 ... -1.48790715 -1.51594099\n",
      "  -1.54397482]\n",
      " [-0.16153743 -0.18957126 -0.21760509 ... -1.47912757 -1.5071614\n",
      "  -1.53519523]\n",
      " [-0.15275784 -0.18079167 -0.2088255  ... -1.47034798 -1.49838181\n",
      "  -1.52641565]]\n"
     ]
    },
    {
     "data": {
      "text/plain": [
       "<matplotlib.contour.QuadContourSet at 0x1317490>"
      ]
     },
     "execution_count": 65,
     "metadata": {},
     "output_type": "execute_result"
    },
    {
     "data": {
      "image/png": "[encoded data removed]",
      "text/plain": [
       "<Figure size 432x288 with 1 Axes>"
      ]
     },
     "metadata": {
      "needs_background": "light"
     },
     "output_type": "display_data"
    }
   ],
   "source": [
    "xgrid = np.linspace(-5 , 5)\n",
    "print(len(xgrid))\n",
    "ygrid = np.linspace(-4 , 4)\n",
    "print(len(ygrid))\n",
    "\n",
    "test_data = np.zeros((50,2))\n",
    "\n",
    "for i in range(50):\n",
    "    test_data[i] = np.array([xgrid[i], ygrid[i]])\n",
    "\n",
    "grid = np.array([[indicator(np.array([x,y])) for x in xgrid] for y in ygrid])\n",
    "print(grid)\n",
    "plt.plot([p[0] for p in test_data], [p[1] for p in test_data], \"b.\")\n",
    "\n",
    "plt.contour( xgrid, ygrid, grid,(-1.0 , 0.0 , 1.0 ), colors =('red', 'black','blue'), linewidths =(1, 3, 1))"
   ]
  }
 ],
 "metadata": {
  "kernelspec": {
   "display_name": "Python 3",
   "language": "python",
   "name": "python3"
  },
  "language_info": {
   "codemirror_mode": {
    "name": "ipython",
    "version": 3
   },
   "file_extension": ".py",
   "mimetype": "text/x-python",
   "name": "python",
   "nbconvert_exporter": "python",
   "pygments_lexer": "ipython3",
   "version": "3.7.3"
  }
 },
 "nbformat": 4,
 "nbformat_minor": 2
}
