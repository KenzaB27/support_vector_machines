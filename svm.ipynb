{
 "cells": [
  {
   "cell_type": "code",
   "execution_count": 8,
   "metadata": {},
   "outputs": [],
   "source": [
    "import numpy as np\n",
    "import random, math\n",
    "from scipy.optimize import minimize\n",
    "from scipy.spatial import distance\n",
    "import matplotlib.pyplot as plt"
   ]
  },
  {
   "cell_type": "code",
   "execution_count": 47,
   "metadata": {},
   "outputs": [],
   "source": [
    "def linearKernel(x, y):\n",
    "    return np.dot(x, y)"
   ]
  },
  {
   "cell_type": "code",
   "execution_count": 48,
   "metadata": {},
   "outputs": [
    {
     "name": "stdout",
     "output_type": "stream",
     "text": [
      "19\n"
     ]
    }
   ],
   "source": [
    "x = np.array([1,2,3])\n",
    "y = np.array([1,3,4])\n",
    "print(linearKernel(x, y))"
   ]
  },
  {
   "cell_type": "code",
   "execution_count": 31,
   "metadata": {},
   "outputs": [],
   "source": [
    "def polynomialKernel(x, y, p):\n",
    "    return np.power((1 + np.dot(x, y)), p)"
   ]
  },
  {
   "cell_type": "code",
   "execution_count": 34,
   "metadata": {},
   "outputs": [
    {
     "name": "stdout",
     "output_type": "stream",
     "text": [
      "64\n"
     ]
    }
   ],
   "source": [
    "print(polynomialKernel(x, y, 2))"
   ]
  },
  {
   "cell_type": "code",
   "execution_count": 23,
   "metadata": {},
   "outputs": [],
   "source": [
    "def rbfKernel(x, y, sigma):\n",
    "    return np.exp(-(distance.euclidean(x, y))/(2*np.power(sigma, 2)))"
   ]
  },
  {
   "cell_type": "code",
   "execution_count": 24,
   "metadata": {},
   "outputs": [
    {
     "name": "stdout",
     "output_type": "stream",
     "text": [
      "0.9999292918218224\n"
     ]
    }
   ],
   "source": [
    "print(rbfKernel(x, y, 100))"
   ]
  },
  {
   "cell_type": "code",
   "execution_count": 27,
   "metadata": {},
   "outputs": [],
   "source": [
    "def computeP (t, x):\n",
    "    p = np.zeros((len(t), len(t)))\n",
    "    for i in range(len(t)):\n",
    "        for j in range(len(t)):\n",
    "            p[i][j] = t[i] * t[j] * linearKernel(x[i], x[j])\n",
    "    return p"
   ]
  },
  {
   "cell_type": "code",
   "execution_count": 33,
   "metadata": {},
   "outputs": [
    {
     "name": "stdout",
     "output_type": "stream",
     "text": [
      "[[ 1. -2.]\n",
      " [-2.  4.]]\n"
     ]
    }
   ],
   "source": [
    "x = np.array([1,2])\n",
    "y = np.array([1,3])\n",
    "t = np.array([1,-1])\n",
    "p = computeP(t, x)\n",
    "print(p)"
   ]
  },
  {
   "cell_type": "code",
   "execution_count": 54,
   "metadata": {},
   "outputs": [],
   "source": [
    "def objective(alpha):\n",
    "    alpha_matrix = np.zeros((N, N))\n",
    "    for i in range(N):\n",
    "        for j in range(N):\n",
    "            alpha_matrix[i][j] = alpha[i] * alpha[j]\n",
    "    alpha_times_p = np.matmul(alpha_matrix, p_ij)\n",
    "    sum_alpha_times_p = 0 \n",
    "    for i in range(N):\n",
    "        sum_alpha_times_p += np.sum(alpha_times_p[i])\n",
    "    return 0.5 * sum_alpha_times_p - np.sum(alpha)"
   ]
  },
  {
   "cell_type": "code",
   "execution_count": 56,
   "metadata": {},
   "outputs": [],
   "source": [
    "def zerofun(alpha): \n",
    "    return np.dot(alpha, targets)"
   ]
  },
  {
   "cell_type": "code",
   "execution_count": 51,
   "metadata": {},
   "outputs": [
    {
     "name": "stdout",
     "output_type": "stream",
     "text": [
      "[[ 3.20170105  2.76582194  0.21032748 ... -2.77377244 -2.85172966\n",
      "   0.04416768]\n",
      " [ 2.76582194  2.61319203  0.41144344 ... -2.06214202 -2.06739303\n",
      "   0.3413798 ]\n",
      " [ 0.21032748  0.41144344  0.24956044 ...  0.16050711  0.21909889\n",
      "   0.31403697]\n",
      " ...\n",
      " [-2.77377244 -2.06214202  0.16050711 ...  2.90128845  3.06145184\n",
      "   0.41406308]\n",
      " [-2.85172966 -2.06739303  0.21909889 ...  3.06145184  3.2407327\n",
      "   0.49707637]\n",
      " [ 0.04416768  0.3413798   0.31403697 ...  0.41406308  0.49707637\n",
      "   0.4112475 ]]\n"
     ]
    }
   ],
   "source": [
    "numpy.random.seed(100)\n",
    "\n",
    "classA = np.concatenate(\n",
    "    (np.random.randn(10, 2) * 0.2 + [1.5, 0.5],\n",
    "    np.random.randn(10, 2) * 0.2 + [-1.5, 0.5]))\n",
    "classB = np.random.randn(20, 2) * 0.2 + [0.0, -0.5]\n",
    "\n",
    "inputs = np.concatenate((classA, classB))\n",
    "targets = np.concatenate(\n",
    "    (np.ones(classA.shape[0]),\n",
    "    - np.ones(classB.shape[0])))\n",
    "\n",
    "N = inputs.shape[0]\n",
    "\n",
    "permute = list(range(N))\n",
    "random.shuffle(permute)\n",
    "inputs = inputs[permute, :]\n",
    "targets = targets[permute]\n",
    "\n",
    "p_ij = computeP(targets, inputs)"
   ]
  },
  {
   "cell_type": "code",
   "execution_count": 59,
   "metadata": {},
   "outputs": [
    {
     "name": "stdout",
     "output_type": "stream",
     "text": [
      "[0.00000000e+00 5.31647001e-14 7.84520871e-15 0.00000000e+00\n",
      " 6.02763068e-14 0.00000000e+00 7.04448477e-14 8.40568559e-14\n",
      " 5.44532069e-14 4.49541952e-14 5.68211514e-14 5.27736076e-14\n",
      " 0.00000000e+00 1.46233396e-01 3.76371074e-14 2.96720422e-14\n",
      " 0.00000000e+00 4.81931489e-14 1.68244304e-13 2.02699381e-13\n",
      " 7.73105967e-14 0.00000000e+00 4.97843541e-14 0.00000000e+00\n",
      " 1.10498280e-14 0.00000000e+00 8.80352202e-14 6.52244991e-14\n",
      " 3.39205212e-14 4.07387411e-14 0.00000000e+00 7.20381232e-14\n",
      " 8.72764097e-14 1.46233396e-01 1.14406101e-14 3.69912323e-14\n",
      " 6.13907349e-14 3.99929375e-14 6.66504149e-14 4.22006256e-14]\n"
     ]
    }
   ],
   "source": [
    "C = None \n",
    "B = [(0, C) for b in range(N)]\n",
    "ret = minimize(objective, numpy.zeros(N), bounds = B, constraints = {'type': 'eq', 'fun':zerofun})\n",
    "print(ret['x'])"
   ]
  }
 ],
 "metadata": {
  "kernelspec": {
   "display_name": "Python 3",
   "language": "python",
   "name": "python3"
  },
  "language_info": {
   "codemirror_mode": {
    "name": "ipython",
    "version": 3
   },
   "file_extension": ".py",
   "mimetype": "text/x-python",
   "name": "python",
   "nbconvert_exporter": "python",
   "pygments_lexer": "ipython3",
   "version": "3.7.3"
  }
 },
 "nbformat": 4,
 "nbformat_minor": 2
}
