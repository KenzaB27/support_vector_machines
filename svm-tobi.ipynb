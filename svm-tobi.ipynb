{
 "metadata": {
  "language_info": {
   "codemirror_mode": {
    "name": "ipython",
    "version": 3
   },
   "file_extension": ".py",
   "mimetype": "text/x-python",
   "name": "python",
   "nbconvert_exporter": "python",
   "pygments_lexer": "ipython3",
   "version": "3.7.6-final"
  },
  "orig_nbformat": 2,
  "kernelspec": {
   "name": "python37664bittensorflowconda789fb1f6bc5e4117bd77a83dcb86735d",
   "display_name": "Python 3.7.6 64-bit ('tensorflow': conda)"
  }
 },
 "nbformat": 4,
 "nbformat_minor": 2,
 "cells": [
  {
   "cell_type": "code",
   "execution_count": 1,
   "metadata": {},
   "outputs": [],
   "source": [
    "import numpy as np\n",
    "import random, math\n",
    "from scipy.optimize import minimize\n",
    "import matplotlib.pyplot as plt"
   ]
  },
  {
   "source": [
    "## 5 Create data"
   ],
   "cell_type": "markdown",
   "metadata": {}
  },
  {
   "cell_type": "code",
   "execution_count": 2,
   "metadata": {},
   "outputs": [],
   "source": [
    "classA = np.concatenate ((np.random.randn(10,2) * 0.2 + [1.5, 0.5 ] ,np.random.randn(10, 2) * 0.2 + [-1.5, 0.5]))\n",
    "classB = np.random.randn(20, 2) * 0.2 + [0.0, -0.5]\n",
    "inputs = np.concatenate((classA, classB))\n",
    "targets = np.concatenate (\n",
    "(np.ones(classA.shape[0]),-np.ones(classB.shape[0])))\n",
    "N = inputs.shape [0] # Number of rows ( samples )\n",
    "permute = list(range(N))\n",
    "random.shuffle(permute)\n",
    "inputs = inputs[permute,:]\n",
    "targets = targets[permute]"
   ]
  },
  {
   "cell_type": "code",
   "execution_count": 4,
   "metadata": {},
   "outputs": [],
   "source": [
    "def P_ij(inputs,targets,func,param):\n",
    "    inputs_ij = np.array([func(i,j,param) for i in inputs for j in inputs])\n",
    "    targets_ij = np.dot(targets[:,None],targets[None,:])\n",
    "    targets_ij = np.asarray(targets_ij).reshape(-1)\n",
    "    P = inputs_ij*targets_ij\n",
    "    return P"
   ]
  },
  {
   "source": [
    "## implement necessary functions"
   ],
   "cell_type": "markdown",
   "metadata": {}
  },
  {
   "cell_type": "code",
   "execution_count": 5,
   "metadata": {},
   "outputs": [],
   "source": [
    "#linear kernel\n",
    "def lin_kernel(x,y,any=0):\n",
    "    erg = np.dot(x,y)\n",
    "    return erg\n",
    "\n",
    "#polynomial kernel\n",
    "def pol_kernel(x,y,p):\n",
    "    erg = (np.dot(x,y)+1)**p\n",
    "    return erg\n",
    "\n",
    "#RBF kernel\n",
    "def RBF_kernel(x,y,sigma):\n",
    "    exp = (np.linalg.norm(x-y,2)**2)/(2*sigma**2)\n",
    "    erg = np.exp(-exp)\n",
    "    return erg"
   ]
  },
  {
   "cell_type": "code",
   "execution_count": 11,
   "metadata": {},
   "outputs": [],
   "source": [
    "def objective(alpha,nothing):\n",
    "    alp = 1.*alpha\n",
    "    alpha_ij = np.dot(alp[:,None],alp[None,:]) #to get the alpha_ij Matrix\n",
    "    temp = np.asarray(alpha_ij).reshape(-1) #to get an array\n",
    "    erg = np.dot(temp,PA) - np.sum(alp) #PT should be already an array to optimize runtime\n",
    "    return erg\n",
    "\n",
    "def z_const(alpha):\n",
    "    erg = np.dot(alpha,t)\n",
    "    return erg"
   ]
  },
  {
   "cell_type": "code",
   "execution_count": 12,
   "metadata": {
    "tags": []
   },
   "outputs": [
    {
     "output_type": "execute_result",
     "data": {
      "text/plain": "array([-168.3312538 ,  249.93238359,  -10.99150282,  -77.65090166,\n         88.99287508, -393.91475639, -254.87334953, -238.239283  ,\n        565.71212989,  105.09785885, -623.40263912, -197.79124242,\n         64.07798319,  113.92063469,  -70.85528108,  439.46817775,\n        -86.82209861,  238.29438888,  -49.74253358, -303.64446477,\n       -230.15208692, -492.99453692, -177.6830555 ,  465.62030922,\n         30.26263062,  136.29476115,  533.60429844,  142.24459457,\n       -519.2440588 ,  152.68501187,  151.22379266,  341.22385982,\n         10.84644164, -123.15882262,   72.93134711,  168.71336303,\n       -124.83235338, -267.37482491,  525.43308359,   81.03107576])"
     },
     "metadata": {},
     "execution_count": 12
    }
   ],
   "source": [
    "#do optimization\n",
    "C = 5\n",
    "sigma = 1\n",
    "PA = P_ij(inputs,targets,RBF_kernel,sigma)\n",
    "t = targets\n",
    "B = [(0, C) for b in range(N)]\n",
    "\n",
    "ret = minimize(objective,np.zeros(40),B,constraints={'type':'eq','fun':z_const})\n",
    "ret['x']"
   ]
  },
  {
   "cell_type": "code",
   "execution_count": null,
   "metadata": {},
   "outputs": [],
   "source": []
  }
 ]
}